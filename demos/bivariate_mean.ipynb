{
 "cells": [
  {
   "cell_type": "code",
   "execution_count": 1,
   "id": "5a56e746",
   "metadata": {
    "slideshow": {
     "slide_type": "skip"
    }
   },
   "outputs": [],
   "source": [
    "import matplotlib.pyplot as plt\n",
    "\n",
    "import jax\n",
    "import jax.numpy as jnp\n",
    "import tensorflow_probability.substrates.jax as tfp\n",
    "tfd = tfp.distributions\n",
    "tfb = tfp.bijectors\n",
    "\n",
    "try:\n",
    "    import optax\n",
    "except ModuleNotFoundError:\n",
    "    %pip install -qq optax\n",
    "    import optax\n",
    "\n",
    "try:\n",
    "    from ajax import Prior, Likelihood, Variational, ADVI\n",
    "except:\n",
    "    %pip install -qq git+https://github.com/patel-zeel/ajax\n",
    "    from ajax import Prior, Likelihood, Variational, ADVI\n",
    "    \n",
    "from ajax.utils import fill_params\n",
    "from tqdm import trange\n",
    "\n",
    "from jax.config import config\n",
    "config.update(\"jax_enable_x64\", True)"
   ]
  },
  {
   "cell_type": "markdown",
   "id": "f37a0a01",
   "metadata": {
    "slideshow": {
     "slide_type": "slide"
    }
   },
   "source": [
    "### Generate dataset"
   ]
  },
  {
   "cell_type": "code",
   "execution_count": 2,
   "id": "47b5e216",
   "metadata": {
    "slideshow": {
     "slide_type": "subslide"
    }
   },
   "outputs": [],
   "source": [
    "# Define prior\n",
    "class NoPrior:\n",
    "    event_shape = tfp.internal.batch_shape_lib.tf.TensorShape([2])\n",
    "    batch_shape = tfp.internal.batch_shape_lib.tf.TensorShape([])\n",
    "    \n",
    "    def log_prob(self, sample):\n",
    "        return jnp.array(0.0)\n",
    "\n",
    "prior = Prior(distributions={\"mean\": NoPrior()})\n",
    "\n",
    "# Define likelihood\n",
    "def link_function(sample):\n",
    "    mean = sample[\"mean\"]\n",
    "    cov = jnp.array([[0.28, 0.2], [0.2, 0.31]])\n",
    "    return {'loc': mean, \"covariance_matrix\": cov}\n",
    "\n",
    "likelihood = Likelihood(likelihood=tfd.MultivariateNormalFullCovariance, link_function=link_function)"
   ]
  },
  {
   "cell_type": "code",
   "execution_count": 3,
   "id": "e12dc397",
   "metadata": {
    "scrolled": true,
    "slideshow": {
     "slide_type": "subslide"
    }
   },
   "outputs": [
    {
     "name": "stderr",
     "output_type": "stream",
     "text": [
      "WARNING:absl:No GPU/TPU found, falling back to CPU. (Set TF_CPP_MIN_LOG_LEVEL=0 and rerun for more info.)\n"
     ]
    },
    {
     "data": {
      "image/png": "[encoded data removed]",
      "text/plain": [
       "<Figure size 432x288 with 1 Axes>"
      ]
     },
     "metadata": {
      "needs_background": "light"
     },
     "output_type": "display_data"
    }
   ],
   "source": [
    "# Generate samples\n",
    "N = 1000\n",
    "seed = jax.random.PRNGKey(0)\n",
    "mean_sample = {'mean': jnp.array([0.0, 0.0])}\n",
    "data = likelihood.sample(seed=seed, params=mean_sample, sample_shape=(N,))\n",
    "\n",
    "# Plot the samples\n",
    "plt.scatter(data[:, 0], data[:, 1]);"
   ]
  },
  {
   "cell_type": "markdown",
   "id": "72713b69",
   "metadata": {
    "slideshow": {
     "slide_type": "slide"
    }
   },
   "source": [
    "## ADVI"
   ]
  },
  {
   "cell_type": "code",
   "execution_count": 4,
   "id": "579943c4",
   "metadata": {
    "slideshow": {
     "slide_type": "subslide"
    }
   },
   "outputs": [],
   "source": [
    "def fit_advi(vi_type, epochs):\n",
    "    bijectors = {'mean': tfb.Identity()}\n",
    "    variational = Variational(prior, bijectors, vi_type=vi_type)\n",
    "\n",
    "    advi = ADVI(prior, likelihood, variational, data)\n",
    "    \n",
    "    # n_samples = 10\n",
    "    optimizer = optax.adam(learning_rate=0.1)\n",
    "    params = variational.get_params()\n",
    "    state = optimizer.init(params)\n",
    "\n",
    "    value_and_grad_fun = jax.jit(jax.value_and_grad(advi.loss), static_argnames=['n_samples'])\n",
    "    seed = jax.random.PRNGKey(0)\n",
    "    for _ in trange(epochs):\n",
    "        seed = jax.random.split(seed, 1)[0]\n",
    "        loss_value, grads = value_and_grad_fun(params, seed)\n",
    "        updates, state = optimizer.update(grads, state)\n",
    "        params = optax.apply_updates(params, updates)\n",
    "    return jax.tree_leaves(variational.transform_dist(params['mean']))"
   ]
  },
  {
   "cell_type": "markdown",
   "id": "63bc7d5a",
   "metadata": {
    "slideshow": {
     "slide_type": "slide"
    }
   },
   "source": [
    "## Fit Mean-field  VI"
   ]
  },
  {
   "cell_type": "code",
   "execution_count": 7,
   "id": "ed4dd0ac",
   "metadata": {},
   "outputs": [],
   "source": [
    "results = {}"
   ]
  },
  {
   "cell_type": "code",
   "execution_count": 9,
   "id": "85586b07",
   "metadata": {
    "scrolled": true,
    "slideshow": {
     "slide_type": "subslide"
    }
   },
   "outputs": [
    {
     "name": "stderr",
     "output_type": "stream",
     "text": [
      "100%|██████████| 1000/1000 [00:44<00:00, 22.71it/s]\n"
     ]
    },
    {
     "name": "stdout",
     "output_type": "stream",
     "text": [
      "loc [-0.01986062  0.01559812]\n",
      "var [0.00475298 0.00752408]\n"
     ]
    }
   ],
   "source": [
    "loc, scale = fit_advi(vi_type='mean_field', epochs=1000)\n",
    "print(\"loc\", loc)\n",
    "print(\"var\", scale**2)\n",
    "results['mean_field'] = {'loc': loc, 'var': scale**2}"
   ]
  },
  {
   "cell_type": "markdown",
   "id": "61cb3ce1",
   "metadata": {
    "slideshow": {
     "slide_type": "slide"
    }
   },
   "source": [
    "## Fit Full-rank VI"
   ]
  },
  {
   "cell_type": "code",
   "execution_count": 46,
   "id": "6a8d34b5",
   "metadata": {
    "slideshow": {
     "slide_type": "subslide"
    }
   },
   "outputs": [
    {
     "name": "stderr",
     "output_type": "stream",
     "text": [
      "100%|██████████| 200/200 [00:04<00:00, 49.64it/s]"
     ]
    },
    {
     "name": "stdout",
     "output_type": "stream",
     "text": [
      "loc [-0.02761467  0.02063434]\n",
      "covariance_matrix [[ 0.00086134 -0.00188114]\n",
      " [-0.00188114  0.01165943]]\n"
     ]
    },
    {
     "name": "stderr",
     "output_type": "stream",
     "text": [
      "\n"
     ]
    }
   ],
   "source": [
    "loc, L_chol = fit_advi(vi_type='full_rank', epochs=200)\n",
    "print(\"loc\", loc)\n",
    "print(\"covariance_matrix\", L_chol@L_chol.T)\n",
    "results['full_rank'] = {'loc': loc, 'covar': L_chol@L_chol.T}"
   ]
  },
  {
   "cell_type": "markdown",
   "id": "b42aab71",
   "metadata": {
    "slideshow": {
     "slide_type": "slide"
    }
   },
   "source": [
    "## Closed form"
   ]
  },
  {
   "cell_type": "code",
   "execution_count": 10,
   "id": "110d52b0",
   "metadata": {
    "slideshow": {
     "slide_type": "subslide"
    }
   },
   "outputs": [
    {
     "ename": "IndexError",
     "evalue": "list index out of range",
     "output_type": "error",
     "traceback": [
      "\u001b[0;31m---------------------------------------------------------------------------\u001b[0m",
      "\u001b[0;31mIndexError\u001b[0m                                Traceback (most recent call last)",
      "Input \u001b[0;32mIn [10]\u001b[0m, in \u001b[0;36m<cell line: 1>\u001b[0;34m()\u001b[0m\n\u001b[0;32m----> 1\u001b[0m prior_cov \u001b[38;5;241m=\u001b[39m jnp\u001b[38;5;241m.\u001b[39mdiag(\u001b[43mjax\u001b[49m\u001b[38;5;241;43m.\u001b[39;49m\u001b[43mtree_leaves\u001b[49m\u001b[43m(\u001b[49m\u001b[43mprior\u001b[49m\u001b[38;5;241;43m.\u001b[39;49m\u001b[43mdistributions\u001b[49m\u001b[43m[\u001b[49m\u001b[38;5;124;43m'\u001b[39;49m\u001b[38;5;124;43mmean\u001b[39;49m\u001b[38;5;124;43m'\u001b[39;49m\u001b[43m]\u001b[49m\u001b[43m)\u001b[49m\u001b[43m[\u001b[49m\u001b[38;5;241;43m1\u001b[39;49m\u001b[43m]\u001b[49m)\n\u001b[1;32m      2\u001b[0m sigma_y_inv \u001b[38;5;241m=\u001b[39m jnp\u001b[38;5;241m.\u001b[39mlinalg\u001b[38;5;241m.\u001b[39minv(jnp\u001b[38;5;241m.\u001b[39marray([[\u001b[38;5;241m0.28\u001b[39m, \u001b[38;5;241m0.2\u001b[39m], [\u001b[38;5;241m0.2\u001b[39m, \u001b[38;5;241m0.31\u001b[39m]]))\n\u001b[1;32m      3\u001b[0m optimal_cov_inv \u001b[38;5;241m=\u001b[39m jnp\u001b[38;5;241m.\u001b[39mlinalg\u001b[38;5;241m.\u001b[39minv(prior_cov) \u001b[38;5;241m+\u001b[39m N\u001b[38;5;241m*\u001b[39msigma_y_inv\n",
      "\u001b[0;31mIndexError\u001b[0m: list index out of range"
     ]
    }
   ],
   "source": [
    "prior_cov = jnp.diag(jax.tree_leaves(prior.distributions['mean'])[1])\n",
    "sigma_y_inv = jnp.linalg.inv(jnp.array([[0.28, 0.2], [0.2, 0.31]]))\n",
    "optimal_cov_inv = jnp.linalg.inv(prior_cov) + N*sigma_y_inv\n",
    "optimal_cov = jnp.linalg.inv(optimal_cov_inv)\n",
    "\n",
    "optimal_mean = optimal_cov@(sigma_y_inv@(N*data.mean(axis=0)))\n",
    "results['analytic'] = {'loc': optimal_mean, \"covar\": optimal_cov}"
   ]
  },
  {
   "cell_type": "code",
   "execution_count": 11,
   "id": "b280a931",
   "metadata": {},
   "outputs": [
    {
     "ename": "NameError",
     "evalue": "name 'sigma_y_inv' is not defined",
     "output_type": "error",
     "traceback": [
      "\u001b[0;31m---------------------------------------------------------------------------\u001b[0m",
      "\u001b[0;31mNameError\u001b[0m                                 Traceback (most recent call last)",
      "Input \u001b[0;32mIn [11]\u001b[0m, in \u001b[0;36m<cell line: 1>\u001b[0;34m()\u001b[0m\n\u001b[0;32m----> 1\u001b[0m \u001b[38;5;241m1\u001b[39m\u001b[38;5;241m/\u001b[39m\u001b[43msigma_y_inv\u001b[49m\n",
      "\u001b[0;31mNameError\u001b[0m: name 'sigma_y_inv' is not defined"
     ]
    }
   ],
   "source": [
    "1/sigma_y_inv"
   ]
  },
  {
   "cell_type": "markdown",
   "id": "7163a3c3",
   "metadata": {
    "slideshow": {
     "slide_type": "slide"
    }
   },
   "source": [
    "## Results"
   ]
  },
  {
   "cell_type": "code",
   "execution_count": 10,
   "id": "1ce7a4bd",
   "metadata": {
    "scrolled": true,
    "slideshow": {
     "slide_type": "subslide"
    }
   },
   "outputs": [
    {
     "data": {
      "text/plain": [
       "{'loc': DeviceArray([-0.0412429 ,  0.01531224], dtype=float32),\n",
       " 'var': DeviceArray([0.04225402, 0.02714199], dtype=float32)}"
      ]
     },
     "execution_count": 10,
     "metadata": {},
     "output_type": "execute_result"
    }
   ],
   "source": [
    "results['mean_field']"
   ]
  },
  {
   "cell_type": "code",
   "execution_count": 11,
   "id": "b0d79ffe",
   "metadata": {
    "slideshow": {
     "slide_type": "fragment"
    }
   },
   "outputs": [
    {
     "data": {
      "text/plain": [
       "{'loc': DeviceArray([-0.07759243,  0.05348505], dtype=float32),\n",
       " 'covar': DeviceArray([[ 0.01821143, -0.01231783],\n",
       "              [-0.01231783,  0.03992188]], dtype=float32)}"
      ]
     },
     "execution_count": 11,
     "metadata": {},
     "output_type": "execute_result"
    }
   ],
   "source": [
    "results['full_rank']"
   ]
  },
  {
   "cell_type": "code",
   "execution_count": 12,
   "id": "1b4d7af7",
   "metadata": {
    "scrolled": true,
    "slideshow": {
     "slide_type": "fragment"
    }
   },
   "outputs": [
    {
     "data": {
      "text/plain": [
       "{'loc': DeviceArray([-0.00622634, -0.01124652], dtype=float32),\n",
       " 'covar': DeviceArray([[0.00027882, 0.00019883],\n",
       "              [0.00019883, 0.00030865]], dtype=float32)}"
      ]
     },
     "execution_count": 12,
     "metadata": {},
     "output_type": "execute_result"
    }
   ],
   "source": [
    "results['analytic']"
   ]
  },
  {
   "cell_type": "markdown",
   "id": "3de28c9a",
   "metadata": {},
   "source": [
    "## Appendix"
   ]
  },
  {
   "cell_type": "code",
   "execution_count": 30,
   "id": "168e019b",
   "metadata": {},
   "outputs": [
    {
     "name": "stderr",
     "output_type": "stream",
     "text": [
      "100%|██████████| 1000/1000 [00:01<00:00, 778.61it/s]\n"
     ]
    },
    {
     "data": {
      "text/plain": [
       "(DeviceArray([-0.02900433,  0.01556963], dtype=float64),\n",
       " DeviceArray([0.15399672, 0.17595273], dtype=float64))"
      ]
     },
     "execution_count": 30,
     "metadata": {},
     "output_type": "execute_result"
    }
   ],
   "source": [
    "real = tfd.MultivariateNormalFullCovariance(loc=jnp.zeros(2), covariance_matrix=jnp.array([[0.28, 0.2], [0.2, 0.31]]))\n",
    "\n",
    "def loss(params, seed):\n",
    "#     proposal = tfd.MultivariateNormalTriL(loc=params['mean'], scale_tril=params['tril'])\n",
    "    proposal = tfd.MultivariateNormalDiag(loc=params['mean'], scale_diag=jnp.exp(params['log_scale']))\n",
    "    sample = proposal.sample(seed=seed, sample_shape=100)\n",
    "    return jnp.mean(proposal.log_prob(sample) - real.log_prob(sample))\n",
    "\n",
    "# params = {'mean': jnp.ones(2), 'tril': jnp.array([[1.0, 0.0], [0.0, 1.0]])}\n",
    "params = {'mean': jnp.zeros(2), 'log_scale': jnp.ones(2)}\n",
    "\n",
    "optimizer = optax.sgd(learning_rate=0.1)\n",
    "state = optimizer.init(params)\n",
    "\n",
    "value_and_grad_fun = jax.jit(jax.value_and_grad(loss))\n",
    "epochs = 1000\n",
    "seed = jax.random.PRNGKey(0)\n",
    "losses = []\n",
    "for _ in trange(epochs):\n",
    "    seed = jax.random.split(seed)[0]\n",
    "    loss_value, grads = value_and_grad_fun(params, seed)\n",
    "    losses.append(loss_value)\n",
    "    updates, state = optimizer.update(grads, state)\n",
    "    params = optax.apply_updates(params, updates)\n",
    "\n",
    "# params['mean'], params['tril']@params['tril'].T\n",
    "params['mean'], jnp.exp(params['log_scale'])**2"
   ]
  },
  {
   "cell_type": "code",
   "execution_count": 28,
   "id": "5821cbf9",
   "metadata": {},
   "outputs": [
    {
     "data": {
      "image/png": "[encoded data removed]",
      "text/plain": [
       "<Figure size 432x288 with 1 Axes>"
      ]
     },
     "metadata": {
      "needs_background": "light"
     },
     "output_type": "display_data"
    }
   ],
   "source": [
    "plt.plot(losses);"
   ]
  },
  {
   "cell_type": "code",
   "execution_count": 33,
   "id": "f3d31ee3",
   "metadata": {},
   "outputs": [
    {
     "data": {
      "text/plain": [
       "DeviceArray([[ 0.15096774, -0.234     ],\n",
       "             [-0.234     ,  0.16714286]], dtype=float64)"
      ]
     },
     "execution_count": 33,
     "metadata": {},
     "output_type": "execute_result"
    }
   ],
   "source": [
    "1/jnp.linalg.inv(jnp.array([[0.28, 0.2], [0.2, 0.31]]))"
   ]
  },
  {
   "cell_type": "code",
   "execution_count": 18,
   "id": "a72d9b50",
   "metadata": {},
   "outputs": [
    {
     "data": {
      "text/plain": [
       "[DeviceArray([0., 0.], dtype=float64), DeviceArray([1., 1.], dtype=float64)]"
      ]
     },
     "execution_count": 18,
     "metadata": {},
     "output_type": "execute_result"
    }
   ],
   "source": [
    "jax.tree_leaves(tfd.MultivariateNormalDiag(loc=jnp.zeros(2), scale_diag=jnp.ones(2)))"
   ]
  }
 ],
 "metadata": {
  "kernelspec": {
   "display_name": "Python [conda env:ajax]",
   "language": "python",
   "name": "conda-env-ajax-py"
  },
  "language_info": {
   "codemirror_mode": {
    "name": "ipython",
    "version": 3
   },
   "file_extension": ".py",
   "mimetype": "text/x-python",
   "name": "python",
   "nbconvert_exporter": "python",
   "pygments_lexer": "ipython3",
   "version": "3.9.12"
  }
 },
 "nbformat": 4,
 "nbformat_minor": 5
}
