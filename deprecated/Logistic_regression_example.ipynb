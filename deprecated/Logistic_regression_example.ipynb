{
 "cells": [
  {
   "cell_type": "code",
   "execution_count": 1,
   "metadata": {
    "id": "Z99eQC7imk8d"
   },
   "outputs": [],
   "source": [
    "import numpy as np\n",
    "import jax.numpy as jnp\n",
    "import matplotlib.pyplot as plt\n",
    "%matplotlib inline\n",
    "from jax.nn import sigmoid, log_sigmoid\n",
    "\n",
    "import jax\n",
    "from jax_advi.advi import optimize_advi_mean_field\n",
    "from jax import jit\n",
    "from jax.scipy.stats import norm\n",
    "\n",
    "from advi_jax import ADVI\n",
    "from advi_jax.init import initialize\n",
    "from advi_jax.variational_distributions import MeanField\n",
    "import distrax\n",
    "import optax"
   ]
  },
  {
   "cell_type": "code",
   "execution_count": 2,
   "metadata": {
    "id": "elZtZbZTmk8h"
   },
   "outputs": [],
   "source": [
    "N = 1000\n",
    "K = 10\n",
    "\n",
    "np.random.seed(2)\n",
    "\n",
    "X = np.random.randn(N, K)\n",
    "beta_true = np.random.randn(K)\n",
    "gamma_true = np.random.normal()\n",
    "\n",
    "logit_true = X @ beta_true + gamma_true\n",
    "\n",
    "y = np.random.uniform(size=N) < sigmoid(logit_true)"
   ]
  },
  {
   "cell_type": "code",
   "execution_count": 3,
   "metadata": {
    "id": "fPs6q0bRmk8m"
   },
   "outputs": [],
   "source": [
    "# Try ADVI\n",
    "theta_shapes = {\n",
    "    'beta': (K),\n",
    "    'gamma': ()\n",
    "}"
   ]
  },
  {
   "cell_type": "code",
   "execution_count": 4,
   "metadata": {
    "id": "v6Wm7N-Imk8m"
   },
   "outputs": [],
   "source": [
    "def calculate_likelihood(theta, X, y):\n",
    "    \n",
    "    logit_prob = X @ theta['beta'] + theta['gamma']\n",
    "    \n",
    "    prob_pres = log_sigmoid(logit_prob)\n",
    "    prob_abs = log_sigmoid(-logit_prob)\n",
    "    \n",
    "    return jnp.sum(y * prob_pres + (1 - y) * prob_abs)\n",
    "\n",
    "def calculate_prior(theta):\n",
    "    \n",
    "    beta_prior = jnp.sum(norm.logpdf(theta['beta']))\n",
    "    gamma_prior = jnp.sum(norm.logpdf(theta['gamma']))\n",
    "    \n",
    "    return beta_prior + gamma_prior"
   ]
  },
  {
   "cell_type": "code",
   "execution_count": 5,
   "metadata": {
    "id": "mszXd6iSmk8n"
   },
   "outputs": [],
   "source": [
    "from functools import partial"
   ]
  },
  {
   "cell_type": "code",
   "execution_count": 6,
   "metadata": {
    "id": "u8MHmtfwmk8n"
   },
   "outputs": [],
   "source": [
    "log_lik_fun = jit(partial(calculate_likelihood, X=X, y=y))\n",
    "log_prior_fun = jit(calculate_prior)"
   ]
  },
  {
   "cell_type": "code",
   "execution_count": 7,
   "metadata": {
    "id": "Dncivfp-mk8o"
   },
   "outputs": [],
   "source": [
    "result = optimize_advi_mean_field(theta_shapes, log_prior_fun, log_lik_fun, n_draws=None)"
   ]
  },
  {
   "cell_type": "code",
   "execution_count": 8,
   "metadata": {
    "id": "O4V-mbXFmk8o"
   },
   "outputs": [],
   "source": [
    "# Get the ADVI draws\n",
    "from jax_advi.advi import get_posterior_draws\n",
    "\n",
    "draws = get_posterior_draws(result['free_means'], result['free_sds'], {}, n_draws=10000)\n",
    "\n",
    "beta_means_advi = draws['beta'].mean(axis=0)\n",
    "beta_sds_advi = draws['beta'].std(axis=0)"
   ]
  },
  {
   "cell_type": "code",
   "execution_count": 9,
   "metadata": {
    "id": "ST3ZJCINmk8o",
    "outputId": "b08d7300-9d9a-4ab4-aefb-aa1eafcff00e"
   },
   "outputs": [
    {
     "data": {
      "image/png": "[encoded data removed]",
      "text/plain": [
       "<Figure size 720x288 with 2 Axes>"
      ]
     },
     "metadata": {
      "needs_background": "light"
     },
     "output_type": "display_data"
    }
   ],
   "source": [
    "f, ax = plt.subplots(1, 2, figsize=(10,4))\n",
    "\n",
    "ax[0].scatter(beta_means_advi, beta_means_advi)\n",
    "\n",
    "ax[0].plot([beta_means_advi.min(), beta_means_advi.max()],\n",
    "           [beta_means_advi.min(), beta_means_advi.max()])\n",
    "\n",
    "ax[1].scatter(beta_sds_advi, beta_sds_advi)\n",
    "# ax[1].plot([beta_sds_advi.min(), beta_sds_advi.max()],\n",
    "#               [beta_sds_advi.min(), beta_sds_advi.max()])\n",
    "\n",
    "ax[0].set_title('Comparison of posterior means')\n",
    "ax[1].set_title('Comparison of posterior sds')\n",
    "\n",
    "ax[0].set_xlabel('ADVI means')\n",
    "ax[0].set_ylabel('ADVI means')\n",
    "\n",
    "ax[1].set_xlabel('ADVI sds')\n",
    "ax[1].set_ylabel('ADVI sds')\n",
    "\n",
    "f.set_size_inches(10, 4)\n",
    "f.tight_layout()\n",
    "\n",
    "plt.savefig('logistic_reg_comparison.png', dpi=300)"
   ]
  },
  {
   "cell_type": "code",
   "execution_count": 10,
   "metadata": {
    "id": "SILwElYlmk8r"
   },
   "outputs": [],
   "source": [
    "prior_dist = distrax.Normal(loc=jnp.zeros(K+1), scale=jnp.ones(K+1))\n",
    "\n",
    "def likelihood_log_prob_one(sample, X, y):\n",
    "    pred = jnp.sum(X * sample)\n",
    "    prob = sigmoid(pred)\n",
    "    return distrax.Bernoulli(probs=prob).log_prob(y)\n",
    "\n",
    "def likelihood_log_prob_fun(sample, data, **params):\n",
    "    X, y = data\n",
    "    log_probs = jax.vmap(likelihood_log_prob_one, in_axes=(None, 0, 0))(sample, X, y)\n",
    "#     print(log_probs, log_probs.sum())\n",
    "    return log_probs.sum()\n",
    "\n",
    "X_ = jnp.concatenate([jnp.ones((N,1)), X], axis=1)\n",
    "\n",
    "data = (X_, y)\n",
    "\n",
    "model = ADVI(prior_dist, likelihood_log_prob_fun, data)"
   ]
  },
  {
   "cell_type": "code",
   "execution_count": 11,
   "metadata": {},
   "outputs": [],
   "source": [
    "def inference_loop(key, params, model, optimizer, n_iterations, n_samples):\n",
    "    def one_step(carry, key):\n",
    "        params, state, data = carry\n",
    "        value, grads = model.value_and_grad_fun(key, params, data, n_samples)\n",
    "        updates, state = optimizer.update(grads, state)\n",
    "        params = optax.apply_updates(params, updates)\n",
    "        return (params, state, data), value\n",
    "\n",
    "    keys = jax.random.split(key, n_iterations)\n",
    "    state = optimizer.init(params)\n",
    "    carry = (params, state, model.data)\n",
    "    one_step = jax.jit(one_step, static_argnums=2)\n",
    "    (params, state, data), values = jax.lax.scan(one_step, carry, keys)\n",
    "\n",
    "    return values, params\n",
    "\n",
    "variational_dist = MeanField(u_mean=jnp.zeros((K+1, )), u_scale=jnp.zeros((K+1, )))"
   ]
  },
  {
   "cell_type": "code",
   "execution_count": 12,
   "metadata": {},
   "outputs": [
    {
     "name": "stderr",
     "output_type": "stream",
     "text": [
      "WARNING:root:The use of `check_types` is deprecated and does not have any effect.\n",
      "WARNING:root:The use of `check_types` is deprecated and does not have any effect.\n",
      "WARNING:root:The use of `check_types` is deprecated and does not have any effect.\n",
      "WARNING:root:The use of `check_types` is deprecated and does not have any effect.\n"
     ]
    },
    {
     "name": "stdout",
     "output_type": "stream",
     "text": [
      "initial params MeanField(u_mean=DeviceArray([-1.3006209 ,  1.1678952 ,  0.32451877, -0.70131886,\n",
      "              0.9478563 ,  0.4991682 ,  1.0534693 , -0.12855814,\n",
      "             -1.8437343 ,  1.0839263 , -0.20180629], dtype=float32), u_scale=DeviceArray([-0.91099036, -0.80072755,  1.3114007 ,  0.6532997 ,\n",
      "             -0.46683976,  0.0310739 , -1.5269119 ,  1.0970311 ,\n",
      "              0.19048469,  0.3184348 , -0.58450043], dtype=float32), bijector=<distrax._src.bijectors.lambda_bijector.Lambda object at 0x7f3462fcdd30>)\n"
     ]
    },
    {
     "data": {
      "text/plain": [
       "(DeviceArray(inf, dtype=float32),\n",
       " {'variational_dist': MeanField(u_mean=DeviceArray([nan, nan, nan, nan, nan, nan, nan, nan, nan, nan, nan], dtype=float32), u_scale=DeviceArray([nan, nan, nan, nan, nan, nan, nan, nan, nan, nan, nan], dtype=float32), bijector=<distrax._src.bijectors.lambda_bijector.Lambda object at 0x7f3462df5a00>)})"
      ]
     },
     "execution_count": 12,
     "metadata": {},
     "output_type": "execute_result"
    }
   ],
   "source": [
    "seed = 5\n",
    "key = jax.random.PRNGKey(seed)\n",
    "subkey = jax.random.PRNGKey(seed+1)\n",
    "\n",
    "n_samples = 10\n",
    "n_iterations=100\n",
    "learning_rate = 0.1\n",
    "\n",
    "# t_init = time()\n",
    "\n",
    "params = {\"variational_dist\": variational_dist}\n",
    "params = initialize(key, params)  # randomly initialize the parameters\n",
    "print(\"initial params\", params[\"variational_dist\"])\n",
    "optimizer = optax.adam(learning_rate=0.01)\n",
    "model.value_and_grad_fun(subkey, params, data, n_samples=1)\n",
    "# losses, params = inference_loop(subkey, params, model, optimizer, n_iterations, n_samples)\n",
    "# print(\"final params\", params[\"variational_dist\"])\n",
    "# print(f\"{time()-t_init:.2f} seconds\")\n",
    "# plt.plot(losses);"
   ]
  },
  {
   "cell_type": "code",
   "execution_count": 13,
   "metadata": {},
   "outputs": [
    {
     "name": "stderr",
     "output_type": "stream",
     "text": [
      "WARNING:root:The use of `check_types` is deprecated and does not have any effect.\n",
      "WARNING:root:The use of `check_types` is deprecated and does not have any effect.\n",
      "WARNING:root:The use of `check_types` is deprecated and does not have any effect.\n"
     ]
    },
    {
     "ename": "TypeError",
     "evalue": "'<' not supported between instances of 'tuple' and 'int'",
     "output_type": "error",
     "traceback": [
      "\u001b[0;31m---------------------------------------------------------------------------\u001b[0m",
      "\u001b[0;31mTypeError\u001b[0m                                 Traceback (most recent call last)",
      "Input \u001b[0;32mIn [13]\u001b[0m, in \u001b[0;36m<cell line: 1>\u001b[0;34m()\u001b[0m\n\u001b[0;32m----> 1\u001b[0m likelihood_log_prob_fun(\u001b[43mvariational_dist\u001b[49m\u001b[38;5;241;43m.\u001b[39;49m\u001b[43msample\u001b[49m\u001b[43m(\u001b[49m\u001b[43msubkey\u001b[49m\u001b[43m)\u001b[49m, data)\n\u001b[1;32m      2\u001b[0m variational_dist\u001b[38;5;241m.\u001b[39msample_and_log_prob(subkey)\n",
      "File \u001b[0;32m~/advi_jax/advi_jax/variational_distributions.py:25\u001b[0m, in \u001b[0;36mMeanField.sample\u001b[0;34m(self, key)\u001b[0m\n\u001b[1;32m     23\u001b[0m scale \u001b[38;5;241m=\u001b[39m jnp\u001b[38;5;241m.\u001b[39mexp(\u001b[38;5;28mself\u001b[39m\u001b[38;5;241m.\u001b[39mu_scale)  \u001b[38;5;66;03m# positivity constraint\u001b[39;00m\n\u001b[1;32m     24\u001b[0m normal_posterior \u001b[38;5;241m=\u001b[39m dist\u001b[38;5;241m.\u001b[39mMultivariateNormalDiag(loc\u001b[38;5;241m=\u001b[39m\u001b[38;5;28mself\u001b[39m\u001b[38;5;241m.\u001b[39mu_mean, scale_diag\u001b[38;5;241m=\u001b[39mscale)\n\u001b[0;32m---> 25\u001b[0m bijector \u001b[38;5;241m=\u001b[39m \u001b[43mdistrax\u001b[49m\u001b[38;5;241;43m.\u001b[39;49m\u001b[43mBlock\u001b[49m\u001b[43m(\u001b[49m\u001b[43mdistrax\u001b[49m\u001b[38;5;241;43m.\u001b[39;49m\u001b[43mLambda\u001b[49m\u001b[43m(\u001b[49m\u001b[38;5;28;43;01mlambda\u001b[39;49;00m\u001b[43m \u001b[49m\u001b[43mx\u001b[49m\u001b[43m:\u001b[49m\u001b[43m \u001b[49m\u001b[43mx\u001b[49m\u001b[43m)\u001b[49m\u001b[43m,\u001b[49m\u001b[43m \u001b[49m\u001b[43m(\u001b[49m\u001b[38;5;28;43mself\u001b[39;49m\u001b[38;5;241;43m.\u001b[39;49m\u001b[43mu_mean\u001b[49m\u001b[38;5;241;43m.\u001b[39;49m\u001b[43mshape\u001b[49m\u001b[43m[\u001b[49m\u001b[38;5;241;43m0\u001b[39;49m\u001b[43m]\u001b[49m\u001b[43m,\u001b[49m\u001b[43m)\u001b[49m\u001b[43m)\u001b[49m\n\u001b[1;32m     26\u001b[0m transformed_posterior \u001b[38;5;241m=\u001b[39m distrax\u001b[38;5;241m.\u001b[39mTransformed(normal_posterior, bijector)\n\u001b[1;32m     28\u001b[0m sample \u001b[38;5;241m=\u001b[39m transformed_posterior\u001b[38;5;241m.\u001b[39msample(seed\u001b[38;5;241m=\u001b[39mkey)\n",
      "File \u001b[0;32m~/miniconda3/envs/jax_gpu/lib/python3.9/site-packages/distrax/_src/bijectors/block.py:60\u001b[0m, in \u001b[0;36mBlock.__init__\u001b[0;34m(self, bijector, ndims)\u001b[0m\n\u001b[1;32m     51\u001b[0m \u001b[38;5;28;01mdef\u001b[39;00m \u001b[38;5;21m__init__\u001b[39m(\u001b[38;5;28mself\u001b[39m, bijector: BijectorLike, ndims: \u001b[38;5;28mint\u001b[39m):\n\u001b[1;32m     52\u001b[0m   \u001b[38;5;124;03m\"\"\"Initializes a Block.\u001b[39;00m\n\u001b[1;32m     53\u001b[0m \n\u001b[1;32m     54\u001b[0m \u001b[38;5;124;03m  Args:\u001b[39;00m\n\u001b[0;32m   (...)\u001b[0m\n\u001b[1;32m     58\u001b[0m \u001b[38;5;124;03m    ndims: number of batch dimensions to promote to event dimensions.\u001b[39;00m\n\u001b[1;32m     59\u001b[0m \u001b[38;5;124;03m  \"\"\"\u001b[39;00m\n\u001b[0;32m---> 60\u001b[0m   \u001b[38;5;28;01mif\u001b[39;00m \u001b[43mndims\u001b[49m\u001b[43m \u001b[49m\u001b[38;5;241;43m<\u001b[39;49m\u001b[43m \u001b[49m\u001b[38;5;241;43m0\u001b[39;49m:\n\u001b[1;32m     61\u001b[0m     \u001b[38;5;28;01mraise\u001b[39;00m \u001b[38;5;167;01mValueError\u001b[39;00m(\u001b[38;5;124mf\u001b[39m\u001b[38;5;124m\"\u001b[39m\u001b[38;5;124m`ndims` must be non-negative; got \u001b[39m\u001b[38;5;132;01m{\u001b[39;00mndims\u001b[38;5;132;01m}\u001b[39;00m\u001b[38;5;124m.\u001b[39m\u001b[38;5;124m\"\u001b[39m)\n\u001b[1;32m     62\u001b[0m   \u001b[38;5;28mself\u001b[39m\u001b[38;5;241m.\u001b[39m_bijector \u001b[38;5;241m=\u001b[39m conversion\u001b[38;5;241m.\u001b[39mas_bijector(bijector)\n",
      "\u001b[0;31mTypeError\u001b[0m: '<' not supported between instances of 'tuple' and 'int'"
     ]
    }
   ],
   "source": [
    "likelihood_log_prob_fun(variational_dist.sample(subkey), data)\n",
    "variational_dist.sample_and_log_prob(subkey)"
   ]
  }
 ],
 "metadata": {
  "colab": {
   "name": "Logistic regression example.ipynb",
   "provenance": []
  },
  "kernelspec": {
   "display_name": "Python [conda env:jax_gpu]",
   "language": "python",
   "name": "conda-env-jax_gpu-py"
  },
  "language_info": {
   "codemirror_mode": {
    "name": "ipython",
    "version": 3
   },
   "file_extension": ".py",
   "mimetype": "text/x-python",
   "name": "python",
   "nbconvert_exporter": "python",
   "pygments_lexer": "ipython3",
   "version": "3.9.12"
  }
 },
 "nbformat": 4,
 "nbformat_minor": 1
}
