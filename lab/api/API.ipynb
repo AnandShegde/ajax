{
 "cells": [
  {
   "cell_type": "code",
   "execution_count": 9,
   "id": "8282805a",
   "metadata": {},
   "outputs": [
    {
     "ename": "ModuleNotFoundError",
     "evalue": "No module named 'ajax'",
     "output_type": "error",
     "traceback": [
      "\u001b[0;31m---------------------------------------------------------------------------\u001b[0m",
      "\u001b[0;31mModuleNotFoundError\u001b[0m                       Traceback (most recent call last)",
      "Input \u001b[0;32mIn [9]\u001b[0m, in \u001b[0;36m<cell line: 4>\u001b[0;34m()\u001b[0m\n\u001b[1;32m      2\u001b[0m \u001b[38;5;28;01mimport\u001b[39;00m \u001b[38;5;21;01mtensorflow_probability\u001b[39;00m\u001b[38;5;21;01m.\u001b[39;00m\u001b[38;5;21;01msubstrates\u001b[39;00m\u001b[38;5;21;01m.\u001b[39;00m\u001b[38;5;21;01mjax\u001b[39;00m \u001b[38;5;28;01mas\u001b[39;00m \u001b[38;5;21;01mtfp\u001b[39;00m\n\u001b[1;32m      3\u001b[0m tfd \u001b[38;5;241m=\u001b[39m tfp\u001b[38;5;241m.\u001b[39mdistributions\n\u001b[0;32m----> 4\u001b[0m \u001b[38;5;28;01mfrom\u001b[39;00m \u001b[38;5;21;01majax\u001b[39;00m \u001b[38;5;28;01mimport\u001b[39;00m Prior, Variational, advi\n",
      "\u001b[0;31mModuleNotFoundError\u001b[0m: No module named 'ajax'"
     ]
    }
   ],
   "source": [
    "import distrax\n",
    "import tensorflow_probability.substrates.jax as tfp\n",
    "tfd = tfp.distributions\n",
    "from ajax import Prior, Variational"
   ]
  },
  {
   "cell_type": "code",
   "execution_count": null,
   "id": "d0aeb6d2",
   "metadata": {},
   "outputs": [],
   "source": [
    "parameters = {'w': distrax.Normal(loc=0.0, scale=0.1), \"C\": tfd.CholeskyLKJ()}\n",
    "transforms = {'w': distrax.Sigmoid(), \"C\": distrax.Sigmoid()}\n",
    "prior = Prior(distributions, transforms)  # To take samples from this prior, evaluate log pdf\n",
    "posterior = Variational(distributions=prior, vi_type='mean_field')  # To take samples from this posterior and take log pdf\n",
    "likelihood = Likelihood(distributions=prior, link_function)  # To take samples from this and take log pdf\n",
    "\n",
    "step = jax.jit(posterior.step)\n",
    "\n",
    "for _ in range(100):\n",
    "    params = step(key, params, n_samples=10)  # n_samples is kept here to change it in runtime.\n",
    "    \n",
    "\n",
    "posterior.sample()\n",
    "posterior.log_prob()\n",
    "\n",
    "posterior.set_params"
   ]
  },
  {
   "cell_type": "markdown",
   "id": "1aa0a0bd",
   "metadata": {},
   "source": [
    "* Functional as per JAX\n",
    "* Easier to use. sampling prior and posterior"
   ]
  }
 ],
 "metadata": {
  "kernelspec": {
   "display_name": "Python [conda env:ajax]",
   "language": "python",
   "name": "conda-env-ajax-py"
  },
  "language_info": {
   "codemirror_mode": {
    "name": "ipython",
    "version": 3
   },
   "file_extension": ".py",
   "mimetype": "text/x-python",
   "name": "python",
   "nbconvert_exporter": "python",
   "pygments_lexer": "ipython3",
   "version": "3.9.12"
  }
 },
 "nbformat": 4,
 "nbformat_minor": 5
}
